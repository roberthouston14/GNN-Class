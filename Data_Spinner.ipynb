{
  "nbformat": 4,
  "nbformat_minor": 0,
  "metadata": {
    "colab": {
      "provenance": [],
      "authorship_tag": "ABX9TyODJcsHcfy3eIRcuSpzrrcC",
      "include_colab_link": true
    },
    "kernelspec": {
      "name": "python3",
      "display_name": "Python 3"
    },
    "language_info": {
      "name": "python"
    }
  },
  "cells": [
    {
      "cell_type": "markdown",
      "metadata": {
        "id": "view-in-github",
        "colab_type": "text"
      },
      "source": [
        "<a href=\"https://colab.research.google.com/github/roberthouston14/GNN-Class/blob/main/Data_Spinner.ipynb\" target=\"_parent\"><img src=\"https://colab.research.google.com/assets/colab-badge.svg\" alt=\"Open In Colab\"/></a>"
      ]
    },
    {
      "cell_type": "code",
      "source": [
        "# This code,  first loads the BERT model and tokenizer using the Hugging Face Transformers library. \n",
        "# It then loads a combined dataset  previously created. It defines a function get_synonym that uses \n",
        "# the WordNet corpus from NLTK to generate synonyms for a given word. We also define a function spin_text \n",
        "# that takes a piece of text and replaces a specified number of words with synonyms using the get_synonym function.\n",
        "\n",
        "# It then loops through each spam sample in the dataset and use the spin_text function \n",
        "# to create a new, spun version of the text. We then use the BERT model to generate a \n",
        "# new spam sample based on the spun text using the nlp pipeline from the Transformers \n",
        "# library. Finally, we concatenate the original dataset with the new samples and \n",
        "# save the result to a new CSV file.\n",
        "\n",
        "from transformers import pipeline, AutoTokenizer\n",
        "import pandas as pd\n",
        "import random\n",
        "import nltk\n",
        "from nltk.corpus import wordnet\n",
        "\n",
        "# load BERT model and tokenizer\n",
        "model_name = \"bert-base-uncased\"\n",
        "tokenizer = AutoTokenizer.from_pretrained(model_name)\n",
        "nlp = pipeline('text-generation', model=model_name, tokenizer=tokenizer)\n",
        "\n",
        "# load the combined dataset\n",
        "df = pd.read_csv('combined_dataset.csv')\n",
        "\n",
        "# function to generate synonym using WordNet\n",
        "def get_synonym(word):\n",
        "    synonyms = []\n",
        "    for syn in wordnet.synsets(word):\n",
        "        for lemma in syn.lemmas():\n",
        "            synonyms.append(lemma.name())\n",
        "    return random.choice(synonyms) if synonyms else word\n",
        "\n",
        "# function to spin text by replacing words with synonyms\n",
        "def spin_text(text, num_replacements=3):\n",
        "    words = nltk.word_tokenize(text.lower())\n",
        "    replace_indices = random.sample(range(len(words)), num_replacements)\n",
        "    for idx in replace_indices:\n",
        "        words[idx] = get_synonym(words[idx])\n",
        "    return ' '.join(words)\n",
        "\n",
        "# generate new spam samples using BERT and spinner\n",
        "new_samples = []\n",
        "for index, row in df.iterrows():\n",
        "    if row['target'] == 1:  # only spin text for spam samples\n",
        "        text = row['Text']\n",
        "        spin_text = spin_text(text)\n",
        "        generated = nlp(spin_text, max_length=len(text), do_sample=True, top_p=0.8, temperature=0.7)[0]['generated_text']\n",
        "        new_samples.append({'Text': generated, 'target': 1})\n",
        "\n",
        "# concatenate the original and new datasets\n",
        "new_df = pd.concat([df, pd.DataFrame(new_samples)], ignore_index=True)\n",
        "\n",
        "# save the combined dataset with new samples to a CSV file\n",
        "new_df.to_csv('combined_dataset_with_spun_samples.csv', index=False)\n"
      ],
      "metadata": {
        "id": "DeYBhsWMTgxq"
      },
      "execution_count": null,
      "outputs": []
    }
  ]
}