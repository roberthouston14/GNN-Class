{
  "nbformat": 4,
  "nbformat_minor": 0,
  "metadata": {
    "colab": {
      "provenance": [],
      "authorship_tag": "ABX9TyOZCW3RNGHSHk5hd7F9PFJv",
      "include_colab_link": true
    },
    "kernelspec": {
      "name": "python3",
      "display_name": "Python 3"
    },
    "language_info": {
      "name": "python"
    },
    "accelerator": "GPU",
    "gpuClass": "standard"
  },
  "cells": [
    {
      "cell_type": "markdown",
      "metadata": {
        "id": "view-in-github",
        "colab_type": "text"
      },
      "source": [
        "<a href=\"https://colab.research.google.com/github/roberthouston14/GNN-Class/blob/main/GNN_Explore.ipynb\" target=\"_parent\"><img src=\"https://colab.research.google.com/assets/colab-badge.svg\" alt=\"Open In Colab\"/></a>"
      ]
    },
    {
      "cell_type": "code",
      "source": [
        "# Add this in a Google Colab cell to install the correct version of Pytorch Geometric.\n",
        "import torch\n",
        "\n",
        "def format_pytorch_version(version):\n",
        "  return version.split('+')[0]\n",
        "\n",
        "TORCH_version = torch.__version__\n",
        "TORCH = format_pytorch_version(TORCH_version)\n",
        "\n",
        "def format_cuda_version(version):\n",
        "  return 'cu' + version.replace('.', '')\n",
        "\n",
        "CUDA_version = torch.version.cuda\n",
        "CUDA = format_cuda_version(CUDA_version)\n",
        "\n",
        "!pip install torch-scatter     -f https://pytorch-geometric.com/whl/torch-{TORCH}+{CUDA}.html\n",
        "!pip install torch-sparse      -f https://pytorch-geometric.com/whl/torch-{TORCH}+{CUDA}.html\n",
        "!pip install torch-cluster     -f https://pytorch-geometric.com/whl/torch-{TORCH}+{CUDA}.html\n",
        "!pip install torch-spline-conv -f https://pytorch-geometric.com/whl/torch-{TORCH}+{CUDA}.html\n",
        "!pip install torch-geometric "
      ],
      "metadata": {
        "id": "2UaTjGMvPZn1"
      },
      "execution_count": null,
      "outputs": []
    },
    {
      "cell_type": "code",
      "source": [
        "import torch\n",
        "from torch_geometric.data import Data\n",
        "import networkx as nx\n",
        "from torch_geometric.utils.convert import to_networkx\n",
        "\" Define a graph \"\n",
        "\n",
        "# a graph with 4 nodes\n",
        "edge_list = torch.tensor([\n",
        "                         [0, 0, 0, 1, 2, 2, 3, 3], # Source Nodes\n",
        "                         [1, 2, 3, 0, 0, 3, 2, 0]  # Target Nodes\n",
        "                        ], dtype=torch.long)\n",
        "\n",
        "# 6 Features for each node (4x6 - Number of nodes x NUmber of features)\n",
        "\n",
        "node_features = torch.tensor([\n",
        "                            [-8, 1, 5, 8, 2, -3], # Features of Node 0\n",
        "                            [-1, 0, 2, -3, 0, 1], # Features of Node 1\n",
        "                            [1, -1, 0, -1, 2, 1], # Features of Node 2\n",
        "                            [0, 1, 4, -2, 3, 4], # Features of Node 3\n",
        "                            ],dtype=torch.long)\n",
        "\n",
        "# 1 Weight for each edge \n",
        "\n",
        "edge_weight = torch.tensor([\n",
        "                            [35.], # Weight for nodes (0,1)\n",
        "                            [48.], # Weight for nodes (0,2)\n",
        "                            [12.], # Weight for nodes (0,3)\n",
        "                            [10.], # Weight for nodes (1,0)\n",
        "                            [70.], # Weight for nodes (2,0)\n",
        "                            [5.], # Weight for nodes (2,3)\n",
        "                            [15.], # Weight for nodes (3,2)\n",
        "                            [8.], # Weight for nodes (3,0)   \n",
        "                            ],dtype=torch.long)\n",
        "\n",
        "# Make a data object to store graph informaiton \n",
        "data = Data(x=node_features, edge_index=edge_list, edge_attr=edge_weight)\n",
        "\n",
        "\n",
        "\" Print the graph info \"\n",
        "print(\"Number of nodes: \", data.num_nodes)\n",
        "print(\"Number of edges: \",data.num_edges)\n",
        "print(\"Number of features per node (Length of feature vector): \", data.num_node_features,\"\\n\")\n",
        "print(\"Number of weights per edge (edge-features): \", data.num_edge_features, \"\\n\")\n",
        "\n",
        "\n",
        "\n",
        "\n",
        "\" Plot the graph \"\n",
        "\n",
        "G = to_networkx(data)\n",
        "nx.draw_networkx(G)\n"
      ],
      "metadata": {
        "id": "jeRLvITnkEyh"
      },
      "execution_count": null,
      "outputs": []
    },
    {
      "cell_type": "code",
      "execution_count": null,
      "metadata": {
        "id": "VZUjHybEfuM6"
      },
      "outputs": [],
      "source": [
        "import torch\n",
        "from torch_geometric.data import Data\n",
        "import networkx as nx\n",
        "from torch_geometric.utils.convert import to_networkx\n"
      ]
    },
    {
      "cell_type": "markdown",
      "source": [
        "\n",
        "Define a Graph\n",
        "\n"
      ],
      "metadata": {
        "id": "3qg2B0-dh_TI"
      }
    },
    {
      "cell_type": "code",
      "source": [
        "edg_list = torch.tensor([\n",
        "                        [0,0,0,0,2,2,3,3], # Source Nodes\n",
        "                        [1,2,3,0,0,3,2,0] # Target Nodes undirected \n",
        "                        ],dtype=torch.long) \n",
        "\n",
        "# 6 Features for each node (4x6 - Number of nedes x Number of features)"
      ],
      "metadata": {
        "id": "fhBb3DlxhznQ"
      },
      "execution_count": 5,
      "outputs": []
    },
    {
      "cell_type": "code",
      "source": [
        "node_features = torch.tensor([\n",
        "\n",
        "\n",
        "    \n",
        "])"
      ],
      "metadata": {
        "id": "S5FTV2uzjFaL"
      },
      "execution_count": null,
      "outputs": []
    }
  ]
}